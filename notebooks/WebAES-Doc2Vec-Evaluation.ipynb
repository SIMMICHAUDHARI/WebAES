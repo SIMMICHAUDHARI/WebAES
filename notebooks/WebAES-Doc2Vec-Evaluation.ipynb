{
 "cells": [
  {
   "cell_type": "markdown",
   "metadata": {
    "id": "Glz99bTbGEvD"
   },
   "source": [
    "<center>\n",
    "<h1><b>Word Embedding Based Answer Evaluation System for Online Assessments (WebAES)</b></h1>\n",
    "<h3>A smart system to automate the process of answer evaluation in online assessments.</h3>\n",
    "<h5>Automatic evaluation using Doc2Vec model</h5>"
   ]
  },
  {
   "cell_type": "markdown",
   "metadata": {},
   "source": [
    "In this notebook, a demo of the automatic test evaluation system using the Doc2Vec model trained earlier is shown."
   ]
  },
  {
   "cell_type": "code",
   "execution_count": 1,
   "metadata": {
    "id": "DrrYhuuLFkQU"
   },
   "outputs": [],
   "source": [
    "# Import all required packages\n",
    "\n",
    "# For string manipulation\n",
    "import string\n",
    "\n",
    "# To load a pre-trained Doc2Vec model\n",
    "from gensim.models.doc2vec import Doc2Vec\n",
    "\n",
    "# To determine similarity\n",
    "import scipy\n",
    "\n",
    "# Supress warnings\n",
    "import warnings\n",
    "warnings.filterwarnings('ignore')"
   ]
  },
  {
   "cell_type": "markdown",
   "metadata": {},
   "source": [
    "The following fucntion takes a text document as input and tokenizes it after punctuation removal. It returns a list of tokens for the input document."
   ]
  },
  {
   "cell_type": "code",
   "execution_count": 2,
   "metadata": {
    "id": "dHdE-haLJa11"
   },
   "outputs": [],
   "source": [
    "# Function to tokenize text documents\n",
    "def tokenize(document):\n",
    "    # Remove all punctuation marks\n",
    "    document = document.translate(str.maketrans('', '', string.punctuation))\n",
    "    \n",
    "    # Split document into individual words\n",
    "    tokens = document.lower().split()\n",
    "    \n",
    "    # Return list of tokens\n",
    "    return tokens"
   ]
  },
  {
   "cell_type": "markdown",
   "metadata": {},
   "source": [
    "The following function is used to evaluate the student's response based on the asnwer expected by the faculty, using the pre-trained Doc2Vec model.\n",
    "\n",
    "The Doc2Vec model trained earlier is loaded and used to infer 50-dimensional vectors for the student's answer as well as the expected answer. The cosine similarity for these 2 documents is determined and return as the score for the student's response."
   ]
  },
  {
   "cell_type": "code",
   "execution_count": 3,
   "metadata": {
    "id": "xXDAS6AtMbqS"
   },
   "outputs": [],
   "source": [
    "# Function to evaluate answer using Doc2Vec model\n",
    "def evaluate(expected, response):\n",
    "    # Load pre-trained Doc2Vec model\n",
    "    model = Doc2Vec.load('./WebAES_Doc2Vec_Model.mod')\n",
    "    \n",
    "    # Tokenize expected answer and infer vector\n",
    "    expected_vector = model.infer_vector(tokenize(expected))\n",
    "\n",
    "    # Tokenize student's response and infer vector\n",
    "    response_vector = model.infer_vector(tokenize(response))\n",
    "\n",
    "    # Calculate cosine similarity score and return\n",
    "    score = 1 - scipy.spatial.distance.cosine(expected_vector, response_vector)\n",
    "    return score"
   ]
  },
  {
   "cell_type": "markdown",
   "metadata": {},
   "source": [
    "The function below is used to take the test, submit an answer and get the result for the submission. The score is rounded-off to the nearest half point."
   ]
  },
  {
   "cell_type": "code",
   "execution_count": 4,
   "metadata": {
    "id": "sDA0y0t2JtKH"
   },
   "outputs": [],
   "source": [
    "# Function to take test\n",
    "def take_test(question, max_marks, expected_answer):\n",
    "    # Get student's response\n",
    "    student_response = input('\\n' + question + ' ({} marks)\\n\\n'.format(max_marks))\n",
    "\n",
    "    # Evaluate and get score for student's response\n",
    "    score = round((evaluate(expected_answer, student_response)*max_marks)*2)/2\n",
    "    \n",
    "    # Display result\n",
    "    print('\\nYou have scored {} marks out of {}.'.format(score, max_marks))"
   ]
  },
  {
   "cell_type": "markdown",
   "metadata": {},
   "source": [
    "Sample test #1:"
   ]
  },
  {
   "cell_type": "code",
   "execution_count": 5,
   "metadata": {
    "id": "HfS8jd-AM6Rq"
   },
   "outputs": [
    {
     "name": "stdout",
     "output_type": "stream",
     "text": [
      "\n",
      "What is Human Computer Interaction? (1 marks)\n",
      "\n",
      "Human Computer Interaction is the study of interaction between humans and computers.\n",
      "\n",
      "You have scored 1.0 marks out of 1.\n"
     ]
    }
   ],
   "source": [
    "# Test question\n",
    "question = 'What is Human Computer Interaction?'\n",
    "\n",
    "# Marks for this question\n",
    "max_marks = 1\n",
    "\n",
    "# Answer expected by faculty\n",
    "expected_answer = '''Human Computer Interaction is a discipline concerned with the interaction between computer systems \n",
    "and human users.'''\n",
    "\n",
    "# Start test\n",
    "take_test(question, max_marks, expected_answer)"
   ]
  },
  {
   "cell_type": "markdown",
   "metadata": {},
   "source": [
    "Sample test #2 (taken from MGT1034 Project Management CAT-1 paper):"
   ]
  },
  {
   "cell_type": "code",
   "execution_count": 6,
   "metadata": {},
   "outputs": [
    {
     "name": "stdout",
     "output_type": "stream",
     "text": [
      "\n",
      "Explain the various stages of project life cycle. (5 marks)\n",
      "\n",
      "The stages of project life cycle include selction, planning, execution, and conclusion. The idea of the project is first proposed  and analysed to determine feasibilty in the selction phase. When key participants commit to the project, it is initiated. The planning  phase includes detailed planning for the project, including financial analysis to determine benefits. It ends when all stakeholders  accept the detailed plan. When the plan is accepted, work for the project begins. In the closing stage of the project life cycle, the  project is concluded and accepted by customers.\n",
      "\n",
      "You have scored 4.5 marks out of 5.\n"
     ]
    }
   ],
   "source": [
    "# Test question\n",
    "question = 'Explain the various stages of project life cycle.'\n",
    "\n",
    "# Marks for this question\n",
    "max_marks = 5\n",
    "\n",
    "# Answer expected by faculty\n",
    "expected_answer = '''The project life cycle generally includes the sequential phases of selecting and initiating, \n",
    "planning, executing, and closing. Selecting and initiating is the process of selected the most suitable idea out of \n",
    "a number of proposed ideas. Planning starts after the initial commitment, includes detailed planning, and ends when \n",
    "all stakeholders accept the plan. Executing includes authorizing, executing, monitoring, and controlling work until \n",
    "the customer accepts the project deliverables. Closing is the phase when the benefits of the project are realised and \n",
    "the project is completed.'''\n",
    "\n",
    "# Start test\n",
    "take_test(question, max_marks, expected_answer)"
   ]
  },
  {
   "cell_type": "markdown",
   "metadata": {},
   "source": [
    "Sample test #3 (taken from CSE3013 Artificial Intelligence CAT-1 paper):"
   ]
  },
  {
   "cell_type": "code",
   "execution_count": 7,
   "metadata": {},
   "outputs": [
    {
     "name": "stdout",
     "output_type": "stream",
     "text": [
      "\n",
      "Give PEAS description for medical diagnosis system. (10 marks)\n",
      "\n",
      "The percentage of cases correctly identified by the medical diagnosis system is the performance measure for a medical diagnosis  system. The performance measure can be described as the number of cases out of every one hundred cases that were diagnosed correctly  by the system. In this case, the environment is complete, observable and static. The feedback system which gives the result of diagnosis  to a doctor is the actuator. Sensors include medical sensors such as ECG equipment as well as cameras to monitor images of X Rays.\n",
      "\n",
      "You have scored 9.0 marks out of 10.\n"
     ]
    }
   ],
   "source": [
    "# Test question\n",
    "question = 'Give PEAS description for medical diagnosis system.'\n",
    "\n",
    "# Marks for this question\n",
    "max_marks = 10\n",
    "\n",
    "# Answer expected by faculty\n",
    "expected_answer = '''The performance measure for medical diagnosis system may include the number of patients healed by \n",
    "correctly and accurately diagnosing diseases. For example, the performance measure may be the percentage of cases diagnosed \n",
    "correctly by the system. The environment for a medical diagnosis system includes patients and their vital signs. This \n",
    "environment is fully observable, dynamic and complete. The actuators include display screens and alert systems that send \n",
    "feedback to doctors. Sensors include equipment including medical sensors as well as medical images.'''\n",
    "\n",
    "# Start test\n",
    "take_test(question, max_marks, expected_answer)"
   ]
  }
 ],
 "metadata": {
  "colab": {
   "authorship_tag": "ABX9TyOMyW4Lfbn0zIc+jY925TAv",
   "collapsed_sections": [],
   "name": "WebAES-Evaluation.ipynb",
   "provenance": []
  },
  "kernelspec": {
   "display_name": "Python 3",
   "language": "python",
   "name": "python3"
  },
  "language_info": {
   "codemirror_mode": {
    "name": "ipython",
    "version": 3
   },
   "file_extension": ".py",
   "mimetype": "text/x-python",
   "name": "python",
   "nbconvert_exporter": "python",
   "pygments_lexer": "ipython3",
   "version": "3.8.8"
  }
 },
 "nbformat": 4,
 "nbformat_minor": 1
}
